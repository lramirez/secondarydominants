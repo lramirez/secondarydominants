{
 "metadata": {
  "language_info": {
   "codemirror_mode": {
    "name": "ipython",
    "version": 3
   },
   "file_extension": ".py",
   "mimetype": "text/x-python",
   "name": "python",
   "nbconvert_exporter": "python",
   "pygments_lexer": "ipython3",
   "version": "3.8.5-final"
  },
  "orig_nbformat": 2,
  "kernelspec": {
   "name": "python3",
   "display_name": "Python 3",
   "language": "python"
  }
 },
 "nbformat": 4,
 "nbformat_minor": 2,
 "cells": [
  {
   "cell_type": "code",
   "execution_count": 136,
   "metadata": {},
   "outputs": [],
   "source": [
    "import pandas as pd\n",
    "import numpy as np\n",
    "import markovify\n",
    "import ast\n",
    "import random\n",
    "import operator\n",
    "import bisect\n",
    "import json\n",
    "import copy"
   ]
  },
  {
   "cell_type": "code",
   "execution_count": 8,
   "metadata": {},
   "outputs": [
    {
     "output_type": "execute_result",
     "data": {
      "text/plain": [
       "   Unnamed: 0  track_id  serial  pitch  beat  bar chord\n",
       "0           0         1       0   65.0     1    0   Bb6\n",
       "1           1         1       1   63.0     2    0   Bb6\n",
       "2           2         1       2   58.0     2    0   Bb6\n",
       "3           3         1       3   61.0     3    0   Bb6\n",
       "4           4         1       4   63.0     4    0   Bb6"
      ],
      "text/html": "<div>\n<style scoped>\n    .dataframe tbody tr th:only-of-type {\n        vertical-align: middle;\n    }\n\n    .dataframe tbody tr th {\n        vertical-align: top;\n    }\n\n    .dataframe thead th {\n        text-align: right;\n    }\n</style>\n<table border=\"1\" class=\"dataframe\">\n  <thead>\n    <tr style=\"text-align: right;\">\n      <th></th>\n      <th>Unnamed: 0</th>\n      <th>track_id</th>\n      <th>serial</th>\n      <th>pitch</th>\n      <th>beat</th>\n      <th>bar</th>\n      <th>chord</th>\n    </tr>\n  </thead>\n  <tbody>\n    <tr>\n      <th>0</th>\n      <td>0</td>\n      <td>1</td>\n      <td>0</td>\n      <td>65.0</td>\n      <td>1</td>\n      <td>0</td>\n      <td>Bb6</td>\n    </tr>\n    <tr>\n      <th>1</th>\n      <td>1</td>\n      <td>1</td>\n      <td>1</td>\n      <td>63.0</td>\n      <td>2</td>\n      <td>0</td>\n      <td>Bb6</td>\n    </tr>\n    <tr>\n      <th>2</th>\n      <td>2</td>\n      <td>1</td>\n      <td>2</td>\n      <td>58.0</td>\n      <td>2</td>\n      <td>0</td>\n      <td>Bb6</td>\n    </tr>\n    <tr>\n      <th>3</th>\n      <td>3</td>\n      <td>1</td>\n      <td>3</td>\n      <td>61.0</td>\n      <td>3</td>\n      <td>0</td>\n      <td>Bb6</td>\n    </tr>\n    <tr>\n      <th>4</th>\n      <td>4</td>\n      <td>1</td>\n      <td>4</td>\n      <td>63.0</td>\n      <td>4</td>\n      <td>0</td>\n      <td>Bb6</td>\n    </tr>\n  </tbody>\n</table>\n</div>"
     },
     "metadata": {},
     "execution_count": 8
    }
   ],
   "source": [
    "df = pd.read_csv(\"melody_chords.csv\")\n",
    "df.head()"
   ]
  },
  {
   "cell_type": "code",
   "execution_count": 13,
   "metadata": {},
   "outputs": [],
   "source": [
    "all_chords = set(df[\"chord\"].unique())"
   ]
  },
  {
   "cell_type": "code",
   "execution_count": 22,
   "metadata": {},
   "outputs": [],
   "source": [
    "notes_for_chord = {}\n",
    "\n",
    "for chord in all_chords:\n",
    "    chord_df = df[df[\"chord\"] == chord]\n",
    "    notes = set(chord_df[\"pitch\"].unique())\n",
    "\n",
    "    notes_for_chord[chord] = notes\n"
   ]
  },
  {
   "cell_type": "code",
   "execution_count": 48,
   "metadata": {},
   "outputs": [],
   "source": [
    "data = []\n",
    "\n",
    "for track_id in df[\"track_id\"].unique():\n",
    "    track_df = df[df[\"track_id\"] == track_id]\n",
    "\n",
    "    notes = track_df[\"pitch\"].tolist()\n",
    "\n",
    "    data.append(notes)"
   ]
  },
  {
   "cell_type": "code",
   "execution_count": 252,
   "metadata": {},
   "outputs": [],
   "source": [
    "BEGIN = \"___BEGIN__\"\n",
    "END = \"___END__\"\n",
    "\n",
    "class MelodyChain(markovify.Chain):\n",
    "    def gen(self, chords, init_state=None):\n",
    "        state = init_state or (markovify.chain.BEGIN,) * self.state_size\n",
    "        n = len(chords)\n",
    "        i = 0\n",
    "\n",
    "        while i < n:\n",
    "            next_word = self.move(state, chords[i])\n",
    "            yield next_word\n",
    "            state = tuple(state[1:]) + (next_word,)\n",
    "            i += 1\n",
    "\n",
    "    def move(self, state, chord):\n",
    "        \"\"\"\n",
    "        Given a state, choose the next item at random.\n",
    "        \"\"\"\n",
    "        if self.compiled:\n",
    "            choices, cumdist = self.model[state]\n",
    "        elif state == tuple([ markovify.chain.BEGIN ] * self.state_size):\n",
    "            choices = self.begin_choices\n",
    "            cumdist = self.begin_cumdist\n",
    "        else:\n",
    "            choices, weights = zip(*self.model[state].items())\n",
    "            cumdist = list(markovify.chain.accumulate(weights))\n",
    "        \n",
    "        choices = list(choices)\n",
    "        \n",
    "        rem = []\n",
    "        if chord in all_chords:\n",
    "            i = 0\n",
    "            for c in choices:\n",
    "                if not c in notes_for_chord[chord]:\n",
    "                    rem.append(i)\n",
    "                i += 1\n",
    "\n",
    "        else:\n",
    "            if END in choices:\n",
    "                rem.append(choices.index(END))\n",
    "\n",
    "        for i in sorted(rem, reverse=True):\n",
    "            if len(cumdist) > 1:\n",
    "                del choices[i]\n",
    "                if i < len(cumdist):\n",
    "                    prev = 0\n",
    "                    if i > 0:\n",
    "                        prev = cumdist[i - 1]\n",
    "\n",
    "                    val = cumdist[i] - prev\n",
    "                    \n",
    "                    for j in range(i + 1, len(cumdist)):\n",
    "                        cumdist[j] -= val\n",
    "                    \n",
    "                    del cumdist[i]            \n",
    "\n",
    "        r = random.random() * cumdist[-1]\n",
    "        selection = choices[bisect.bisect(cumdist, r)]\n",
    "        return selection"
   ]
  },
  {
   "cell_type": "code",
   "execution_count": 253,
   "metadata": {},
   "outputs": [],
   "source": [
    "model = MelodyChain(data, state_size=2)"
   ]
  },
  {
   "cell_type": "code",
   "execution_count": 254,
   "metadata": {},
   "outputs": [
    {
     "output_type": "execute_result",
     "data": {
      "text/plain": [
       "   tune                                             chords notes\n",
       "0     0  [('2', 'Gm7'), ('2', 'C7b9'), ('2', 'Am7'), ('...      \n",
       "1     1  [('2', 'Gm7'), ('2', 'C7b9'), ('2', 'Am7'), ('...      \n",
       "2     2  [('2', 'Cm7'), ('2', 'F7'), ('1', 'Bbmaj7'), (...      \n",
       "3     3  [('2', 'Gm7'), ('2', 'C7b9'), ('2', 'Am7'), ('...      \n",
       "4     4  [('1', 'Cm6'), ('1', 'Cm6'), ('1', 'Cm7#9'), (...      "
      ],
      "text/html": "<div>\n<style scoped>\n    .dataframe tbody tr th:only-of-type {\n        vertical-align: middle;\n    }\n\n    .dataframe tbody tr th {\n        vertical-align: top;\n    }\n\n    .dataframe thead th {\n        text-align: right;\n    }\n</style>\n<table border=\"1\" class=\"dataframe\">\n  <thead>\n    <tr style=\"text-align: right;\">\n      <th></th>\n      <th>tune</th>\n      <th>chords</th>\n      <th>notes</th>\n    </tr>\n  </thead>\n  <tbody>\n    <tr>\n      <th>0</th>\n      <td>0</td>\n      <td>[('2', 'Gm7'), ('2', 'C7b9'), ('2', 'Am7'), ('...</td>\n      <td></td>\n    </tr>\n    <tr>\n      <th>1</th>\n      <td>1</td>\n      <td>[('2', 'Gm7'), ('2', 'C7b9'), ('2', 'Am7'), ('...</td>\n      <td></td>\n    </tr>\n    <tr>\n      <th>2</th>\n      <td>2</td>\n      <td>[('2', 'Cm7'), ('2', 'F7'), ('1', 'Bbmaj7'), (...</td>\n      <td></td>\n    </tr>\n    <tr>\n      <th>3</th>\n      <td>3</td>\n      <td>[('2', 'Gm7'), ('2', 'C7b9'), ('2', 'Am7'), ('...</td>\n      <td></td>\n    </tr>\n    <tr>\n      <th>4</th>\n      <td>4</td>\n      <td>[('1', 'Cm6'), ('1', 'Cm6'), ('1', 'Cm7#9'), (...</td>\n      <td></td>\n    </tr>\n  </tbody>\n</table>\n</div>"
     },
     "metadata": {},
     "execution_count": 254
    }
   ],
   "source": [
    "chords = pd.read_csv(\"chords.csv\", names=[\"tune\", \"chords\"], skiprows=1)\n",
    "\n",
    "chords[\"notes\"] = \"\"\n",
    "chords.head()\n"
   ]
  },
  {
   "cell_type": "code",
   "execution_count": 255,
   "metadata": {
    "tags": []
   },
   "outputs": [
    {
     "output_type": "error",
     "ename": "IndexError",
     "evalue": "list index out of range",
     "traceback": [
      "\u001b[0;31m---------------------------------------------------------------------------\u001b[0m",
      "\u001b[0;31mIndexError\u001b[0m                                Traceback (most recent call last)",
      "\u001b[0;32m<ipython-input-255-7426f906145b>\u001b[0m in \u001b[0;36m<module>\u001b[0;34m\u001b[0m\n\u001b[1;32m      4\u001b[0m         \u001b[0mprog\u001b[0m\u001b[0;34m.\u001b[0m\u001b[0mappend\u001b[0m\u001b[0;34m(\u001b[0m\u001b[0mc\u001b[0m\u001b[0;34m[\u001b[0m\u001b[0;36m1\u001b[0m\u001b[0;34m]\u001b[0m\u001b[0;34m)\u001b[0m\u001b[0;34m\u001b[0m\u001b[0;34m\u001b[0m\u001b[0m\n\u001b[1;32m      5\u001b[0m \u001b[0;34m\u001b[0m\u001b[0m\n\u001b[0;32m----> 6\u001b[0;31m     \u001b[0mnotes\u001b[0m \u001b[0;34m=\u001b[0m \u001b[0;34m[\u001b[0m\u001b[0mx\u001b[0m \u001b[0;32mfor\u001b[0m \u001b[0mx\u001b[0m \u001b[0;32min\u001b[0m \u001b[0mmodel\u001b[0m\u001b[0;34m.\u001b[0m\u001b[0mgen\u001b[0m\u001b[0;34m(\u001b[0m\u001b[0mprog\u001b[0m\u001b[0;34m)\u001b[0m\u001b[0;34m]\u001b[0m\u001b[0;34m\u001b[0m\u001b[0;34m\u001b[0m\u001b[0m\n\u001b[0m\u001b[1;32m      7\u001b[0m     \u001b[0mrow\u001b[0m\u001b[0;34m[\u001b[0m\u001b[0;34m\"notes\"\u001b[0m\u001b[0;34m]\u001b[0m \u001b[0;34m=\u001b[0m \u001b[0mnotes\u001b[0m\u001b[0;34m\u001b[0m\u001b[0;34m\u001b[0m\u001b[0m\n\u001b[1;32m      8\u001b[0m     \u001b[0mchords\u001b[0m\u001b[0;34m.\u001b[0m\u001b[0mloc\u001b[0m\u001b[0;34m[\u001b[0m\u001b[0mi\u001b[0m\u001b[0;34m]\u001b[0m \u001b[0;34m=\u001b[0m \u001b[0mrow\u001b[0m\u001b[0;34m\u001b[0m\u001b[0;34m\u001b[0m\u001b[0m\n",
      "\u001b[0;32m<ipython-input-255-7426f906145b>\u001b[0m in \u001b[0;36m<listcomp>\u001b[0;34m(.0)\u001b[0m\n\u001b[1;32m      4\u001b[0m         \u001b[0mprog\u001b[0m\u001b[0;34m.\u001b[0m\u001b[0mappend\u001b[0m\u001b[0;34m(\u001b[0m\u001b[0mc\u001b[0m\u001b[0;34m[\u001b[0m\u001b[0;36m1\u001b[0m\u001b[0;34m]\u001b[0m\u001b[0;34m)\u001b[0m\u001b[0;34m\u001b[0m\u001b[0;34m\u001b[0m\u001b[0m\n\u001b[1;32m      5\u001b[0m \u001b[0;34m\u001b[0m\u001b[0m\n\u001b[0;32m----> 6\u001b[0;31m     \u001b[0mnotes\u001b[0m \u001b[0;34m=\u001b[0m \u001b[0;34m[\u001b[0m\u001b[0mx\u001b[0m \u001b[0;32mfor\u001b[0m \u001b[0mx\u001b[0m \u001b[0;32min\u001b[0m \u001b[0mmodel\u001b[0m\u001b[0;34m.\u001b[0m\u001b[0mgen\u001b[0m\u001b[0;34m(\u001b[0m\u001b[0mprog\u001b[0m\u001b[0;34m)\u001b[0m\u001b[0;34m]\u001b[0m\u001b[0;34m\u001b[0m\u001b[0;34m\u001b[0m\u001b[0m\n\u001b[0m\u001b[1;32m      7\u001b[0m     \u001b[0mrow\u001b[0m\u001b[0;34m[\u001b[0m\u001b[0;34m\"notes\"\u001b[0m\u001b[0;34m]\u001b[0m \u001b[0;34m=\u001b[0m \u001b[0mnotes\u001b[0m\u001b[0;34m\u001b[0m\u001b[0;34m\u001b[0m\u001b[0m\n\u001b[1;32m      8\u001b[0m     \u001b[0mchords\u001b[0m\u001b[0;34m.\u001b[0m\u001b[0mloc\u001b[0m\u001b[0;34m[\u001b[0m\u001b[0mi\u001b[0m\u001b[0;34m]\u001b[0m \u001b[0;34m=\u001b[0m \u001b[0mrow\u001b[0m\u001b[0;34m\u001b[0m\u001b[0;34m\u001b[0m\u001b[0m\n",
      "\u001b[0;32m<ipython-input-252-17c74ef0dee2>\u001b[0m in \u001b[0;36mgen\u001b[0;34m(self, chords, init_state)\u001b[0m\n\u001b[1;32m      9\u001b[0m \u001b[0;34m\u001b[0m\u001b[0m\n\u001b[1;32m     10\u001b[0m         \u001b[0;32mwhile\u001b[0m \u001b[0mi\u001b[0m \u001b[0;34m<\u001b[0m \u001b[0mn\u001b[0m\u001b[0;34m:\u001b[0m\u001b[0;34m\u001b[0m\u001b[0;34m\u001b[0m\u001b[0m\n\u001b[0;32m---> 11\u001b[0;31m             \u001b[0mnext_word\u001b[0m \u001b[0;34m=\u001b[0m \u001b[0mself\u001b[0m\u001b[0;34m.\u001b[0m\u001b[0mmove\u001b[0m\u001b[0;34m(\u001b[0m\u001b[0mstate\u001b[0m\u001b[0;34m,\u001b[0m \u001b[0mchords\u001b[0m\u001b[0;34m[\u001b[0m\u001b[0mi\u001b[0m\u001b[0;34m]\u001b[0m\u001b[0;34m)\u001b[0m\u001b[0;34m\u001b[0m\u001b[0;34m\u001b[0m\u001b[0m\n\u001b[0m\u001b[1;32m     12\u001b[0m             \u001b[0;32myield\u001b[0m \u001b[0mnext_word\u001b[0m\u001b[0;34m\u001b[0m\u001b[0;34m\u001b[0m\u001b[0m\n\u001b[1;32m     13\u001b[0m             \u001b[0mstate\u001b[0m \u001b[0;34m=\u001b[0m \u001b[0mtuple\u001b[0m\u001b[0;34m(\u001b[0m\u001b[0mstate\u001b[0m\u001b[0;34m[\u001b[0m\u001b[0;36m1\u001b[0m\u001b[0;34m:\u001b[0m\u001b[0;34m]\u001b[0m\u001b[0;34m)\u001b[0m \u001b[0;34m+\u001b[0m \u001b[0;34m(\u001b[0m\u001b[0mnext_word\u001b[0m\u001b[0;34m,\u001b[0m\u001b[0;34m)\u001b[0m\u001b[0;34m\u001b[0m\u001b[0;34m\u001b[0m\u001b[0m\n",
      "\u001b[0;32m<ipython-input-252-17c74ef0dee2>\u001b[0m in \u001b[0;36mmove\u001b[0;34m(self, state, chord)\u001b[0m\n\u001b[1;32m     56\u001b[0m                     \u001b[0;32mdel\u001b[0m \u001b[0mcumdist\u001b[0m\u001b[0;34m[\u001b[0m\u001b[0mi\u001b[0m\u001b[0;34m]\u001b[0m\u001b[0;34m\u001b[0m\u001b[0;34m\u001b[0m\u001b[0m\n\u001b[1;32m     57\u001b[0m \u001b[0;34m\u001b[0m\u001b[0m\n\u001b[0;32m---> 58\u001b[0;31m         \u001b[0mr\u001b[0m \u001b[0;34m=\u001b[0m \u001b[0mrandom\u001b[0m\u001b[0;34m.\u001b[0m\u001b[0mrandom\u001b[0m\u001b[0;34m(\u001b[0m\u001b[0;34m)\u001b[0m \u001b[0;34m*\u001b[0m \u001b[0mcumdist\u001b[0m\u001b[0;34m[\u001b[0m\u001b[0;34m-\u001b[0m\u001b[0;36m1\u001b[0m\u001b[0;34m]\u001b[0m\u001b[0;34m\u001b[0m\u001b[0;34m\u001b[0m\u001b[0m\n\u001b[0m\u001b[1;32m     59\u001b[0m         \u001b[0mselection\u001b[0m \u001b[0;34m=\u001b[0m \u001b[0mchoices\u001b[0m\u001b[0;34m[\u001b[0m\u001b[0mbisect\u001b[0m\u001b[0;34m.\u001b[0m\u001b[0mbisect\u001b[0m\u001b[0;34m(\u001b[0m\u001b[0mcumdist\u001b[0m\u001b[0;34m,\u001b[0m \u001b[0mr\u001b[0m\u001b[0;34m)\u001b[0m\u001b[0;34m]\u001b[0m\u001b[0;34m\u001b[0m\u001b[0;34m\u001b[0m\u001b[0m\n\u001b[1;32m     60\u001b[0m         \u001b[0;32mreturn\u001b[0m \u001b[0mselection\u001b[0m\u001b[0;34m\u001b[0m\u001b[0;34m\u001b[0m\u001b[0m\n",
      "\u001b[0;31mIndexError\u001b[0m: list index out of range"
     ]
    }
   ],
   "source": [
    "for (i, row) in chords.iterrows():\n",
    "    prog = []\n",
    "    for c in eval(row[\"chords\"]):\n",
    "        prog.append(c[1])\n",
    "\n",
    "    notes = [x for x in model.gen(prog)]\n",
    "    row[\"notes\"] = notes\n",
    "    chords.loc[i] = row"
   ]
  },
  {
   "cell_type": "code",
   "execution_count": 198,
   "metadata": {},
   "outputs": [
    {
     "output_type": "execute_result",
     "data": {
      "text/plain": [
       "   tune                                             chords  \\\n",
       "0     0  [('2', 'Gm7'), ('2', 'C7b9'), ('2', 'Am7'), ('...   \n",
       "1     1  [('2', 'Gm7'), ('2', 'C7b9'), ('2', 'Am7'), ('...   \n",
       "2     2  [('2', 'Cm7'), ('2', 'F7'), ('1', 'Bbmaj7'), (...   \n",
       "3     3  [('2', 'Gm7'), ('2', 'C7b9'), ('2', 'Am7'), ('...   \n",
       "4     4  [('1', 'Cm6'), ('1', 'Cm6'), ('1', 'Cm7#9'), (...   \n",
       "\n",
       "                                               notes  \n",
       "0  [58.0, 55.0, 57.0, 58.0, 53.0, 58.0, 57.0, 69....  \n",
       "1                                                     \n",
       "2                                                     \n",
       "3                                                     \n",
       "4                                                     "
      ],
      "text/html": "<div>\n<style scoped>\n    .dataframe tbody tr th:only-of-type {\n        vertical-align: middle;\n    }\n\n    .dataframe tbody tr th {\n        vertical-align: top;\n    }\n\n    .dataframe thead th {\n        text-align: right;\n    }\n</style>\n<table border=\"1\" class=\"dataframe\">\n  <thead>\n    <tr style=\"text-align: right;\">\n      <th></th>\n      <th>tune</th>\n      <th>chords</th>\n      <th>notes</th>\n    </tr>\n  </thead>\n  <tbody>\n    <tr>\n      <th>0</th>\n      <td>0</td>\n      <td>[('2', 'Gm7'), ('2', 'C7b9'), ('2', 'Am7'), ('...</td>\n      <td>[58.0, 55.0, 57.0, 58.0, 53.0, 58.0, 57.0, 69....</td>\n    </tr>\n    <tr>\n      <th>1</th>\n      <td>1</td>\n      <td>[('2', 'Gm7'), ('2', 'C7b9'), ('2', 'Am7'), ('...</td>\n      <td></td>\n    </tr>\n    <tr>\n      <th>2</th>\n      <td>2</td>\n      <td>[('2', 'Cm7'), ('2', 'F7'), ('1', 'Bbmaj7'), (...</td>\n      <td></td>\n    </tr>\n    <tr>\n      <th>3</th>\n      <td>3</td>\n      <td>[('2', 'Gm7'), ('2', 'C7b9'), ('2', 'Am7'), ('...</td>\n      <td></td>\n    </tr>\n    <tr>\n      <th>4</th>\n      <td>4</td>\n      <td>[('1', 'Cm6'), ('1', 'Cm6'), ('1', 'Cm7#9'), (...</td>\n      <td></td>\n    </tr>\n  </tbody>\n</table>\n</div>"
     },
     "metadata": {},
     "execution_count": 198
    }
   ],
   "source": [
    "chords.head()"
   ]
  },
  {
   "cell_type": "code",
   "execution_count": null,
   "metadata": {},
   "outputs": [],
   "source": []
  }
 ]
}