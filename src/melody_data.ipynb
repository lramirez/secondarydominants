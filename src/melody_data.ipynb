{
 "cells": [
  {
   "cell_type": "code",
   "execution_count": 9,
   "metadata": {},
   "outputs": [],
   "source": [
    "# data from https://jazzomat.hfm-weimar.de/download/downloads/wjazzd.db\n",
    "import sqlite3\n",
    "import pandas as pd"
   ]
  },
  {
   "cell_type": "code",
   "execution_count": 10,
   "metadata": {
    "tags": []
   },
   "outputs": [],
   "source": [
    "conn = sqlite3.connect(\"data/wjazzd.db\")\n",
    "\n",
    "query = \"\"\"\n",
    "    SELECT \n",
    "        melody.melid AS track_id, \n",
    "        melody.eventid - minmel.minid AS serial, \n",
    "        melody.pitch AS pitch, \n",
    "        melody.beat AS beat, \n",
    "        melody.bar AS bar, \n",
    "        sections.value AS chord \n",
    "    FROM melody \n",
    "    JOIN (\n",
    "        SELECT \n",
    "            MIN(eventid) AS minid, \n",
    "            melid \n",
    "        FROM melody\n",
    "        GROUP BY melid\n",
    "    )\n",
    "    AS minmel \n",
    "    ON melody.melid = minmel.melid \n",
    "    JOIN sections \n",
    "    ON sections.melid = melody.melid \n",
    "    WHERE \n",
    "        sections.type = 'CHORD' AND \n",
    "        sections.start <= melody.eventid - minmel.minid AND \n",
    "        sections.end >= melody.eventid - minmel.minid\n",
    ";\"\"\"\n",
    "\n",
    "df =  pd.read_sql_query(query, conn)"
   ]
  },
  {
   "cell_type": "code",
   "execution_count": 11,
   "metadata": {},
   "outputs": [
    {
     "data": {
      "text/html": [
       "<div>\n",
       "<style scoped>\n",
       "    .dataframe tbody tr th:only-of-type {\n",
       "        vertical-align: middle;\n",
       "    }\n",
       "\n",
       "    .dataframe tbody tr th {\n",
       "        vertical-align: top;\n",
       "    }\n",
       "\n",
       "    .dataframe thead th {\n",
       "        text-align: right;\n",
       "    }\n",
       "</style>\n",
       "<table border=\"1\" class=\"dataframe\">\n",
       "  <thead>\n",
       "    <tr style=\"text-align: right;\">\n",
       "      <th></th>\n",
       "      <th>track_id</th>\n",
       "      <th>serial</th>\n",
       "      <th>pitch</th>\n",
       "      <th>beat</th>\n",
       "      <th>bar</th>\n",
       "      <th>chord</th>\n",
       "    </tr>\n",
       "  </thead>\n",
       "  <tbody>\n",
       "    <tr>\n",
       "      <th>0</th>\n",
       "      <td>1</td>\n",
       "      <td>0</td>\n",
       "      <td>65.0</td>\n",
       "      <td>1</td>\n",
       "      <td>0</td>\n",
       "      <td>Bb6</td>\n",
       "    </tr>\n",
       "    <tr>\n",
       "      <th>1</th>\n",
       "      <td>1</td>\n",
       "      <td>1</td>\n",
       "      <td>63.0</td>\n",
       "      <td>2</td>\n",
       "      <td>0</td>\n",
       "      <td>Bb6</td>\n",
       "    </tr>\n",
       "    <tr>\n",
       "      <th>2</th>\n",
       "      <td>1</td>\n",
       "      <td>2</td>\n",
       "      <td>58.0</td>\n",
       "      <td>2</td>\n",
       "      <td>0</td>\n",
       "      <td>Bb6</td>\n",
       "    </tr>\n",
       "    <tr>\n",
       "      <th>3</th>\n",
       "      <td>1</td>\n",
       "      <td>3</td>\n",
       "      <td>61.0</td>\n",
       "      <td>3</td>\n",
       "      <td>0</td>\n",
       "      <td>Bb6</td>\n",
       "    </tr>\n",
       "    <tr>\n",
       "      <th>4</th>\n",
       "      <td>1</td>\n",
       "      <td>4</td>\n",
       "      <td>63.0</td>\n",
       "      <td>4</td>\n",
       "      <td>0</td>\n",
       "      <td>Bb6</td>\n",
       "    </tr>\n",
       "  </tbody>\n",
       "</table>\n",
       "</div>"
      ],
      "text/plain": [
       "   track_id  serial  pitch  beat  bar chord\n",
       "0         1       0   65.0     1    0   Bb6\n",
       "1         1       1   63.0     2    0   Bb6\n",
       "2         1       2   58.0     2    0   Bb6\n",
       "3         1       3   61.0     3    0   Bb6\n",
       "4         1       4   63.0     4    0   Bb6"
      ]
     },
     "execution_count": 11,
     "metadata": {},
     "output_type": "execute_result"
    }
   ],
   "source": [
    "df.head()"
   ]
  },
  {
   "cell_type": "code",
   "execution_count": 12,
   "metadata": {},
   "outputs": [],
   "source": [
    "# standardize chord notation\n",
    "\n",
    "df[\"chord\"] = df[\"chord\"].replace('-', 'min', regex=True)\n",
    "df[\"chord\"] = df[\"chord\"].replace('j', 'maj', regex=True)\n",
    "df[\"chord\"] = df[\"chord\"].replace('\\+', 'aug', regex=True)\n",
    "df[\"chord\"] = df[\"chord\"].replace('o', 'dim', regex=True)"
   ]
  },
  {
   "cell_type": "code",
   "execution_count": 13,
   "metadata": {},
   "outputs": [],
   "source": [
    "df.to_csv(\"melody_chords.csv\")"
   ]
  }
 ],
 "metadata": {
  "kernelspec": {
   "display_name": "Python 3",
   "language": "python",
   "name": "python3"
  },
  "language_info": {
   "codemirror_mode": {
    "name": "ipython",
    "version": 3
   },
   "file_extension": ".py",
   "mimetype": "text/x-python",
   "name": "python",
   "nbconvert_exporter": "python",
   "pygments_lexer": "ipython3",
   "version": "3.8.3"
  }
 },
 "nbformat": 4,
 "nbformat_minor": 2
}
