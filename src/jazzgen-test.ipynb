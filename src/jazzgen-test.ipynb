{
 "cells": [
  {
   "cell_type": "code",
   "execution_count": 1,
   "metadata": {},
   "outputs": [],
   "source": [
    "import JazzGenerator as jg"
   ]
  },
  {
   "cell_type": "code",
   "execution_count": 2,
   "metadata": {},
   "outputs": [
    {
     "name": "stdout",
     "output_type": "stream",
     "text": [
      "loading model\n"
     ]
    },
    {
     "name": "stderr",
     "output_type": "stream",
     "text": [
      "/Users/lauri/opt/anaconda3/lib/python3.8/site-packages/torch/nn/modules/rnn.py:57: UserWarning: dropout option adds dropout after all but last recurrent layer, so non-zero dropout expects num_layers greater than 1, but got dropout=0.1 and num_layers=1\n",
      "  warnings.warn(\"dropout option adds dropout after all but last \"\n"
     ]
    }
   ],
   "source": [
    "gen = jg.JazzGenerator()"
   ]
  },
  {
   "cell_type": "code",
   "execution_count": 3,
   "metadata": {},
   "outputs": [
    {
     "name": "stdout",
     "output_type": "stream",
     "text": [
      "Generating MC walks...\n",
      "Retrieving initial states...\n",
      "...done.\n",
      "Generating chains...\n",
      "...done.\n",
      "Getting scores...\n",
      "...done.\n",
      "...done.\n",
      "Rendering MIDI-file...\n",
      "...done.\n"
     ]
    },
    {
     "data": {
      "text/plain": [
       "'|| A/F A/F | G7/B G7/B | Cmaj7 Cmaj7 | Am7 Am7 | Dm7 Dm7 | G7 G7 | Cmaj7 Cmaj7 | Cmaj7 Cmaj7 |\\n|A/F A/F | G7/B G7/B | Cmaj7 Cmaj7 | Am7 Am7 | Dm7 Dm7 | G7 G7 | Cmaj7 Cmaj7 | Cmaj7 Cmaj7 ||\\n|| Bbm7b5 Bbm7b5 | Eb7 Eb7 | Cm7 Cm7 | F7 F7 | Bbm7 Bbm7 | Eb7 Eb7 | Abmaj7 Abmaj7 | Dm7 Dm7 ||\\n|| A/F A/F | G7/B G7/B | Cmaj7 Cmaj7 | Am7 Am7 | Dm7 Dm7 | G7 G7 | Cmaj7 Cmaj7 | Cmaj7 Cmaj7 ||\\n'"
      ]
     },
     "execution_count": 3,
     "metadata": {},
     "output_type": "execute_result"
    }
   ],
   "source": [
    "gen.generate_jazz()"
   ]
  },
  {
   "cell_type": "code",
   "execution_count": null,
   "metadata": {},
   "outputs": [],
   "source": []
  }
 ],
 "metadata": {
  "kernelspec": {
   "display_name": "Python 3",
   "language": "python",
   "name": "python3"
  },
  "language_info": {
   "codemirror_mode": {
    "name": "ipython",
    "version": 3
   },
   "file_extension": ".py",
   "mimetype": "text/x-python",
   "name": "python",
   "nbconvert_exporter": "python",
   "pygments_lexer": "ipython3",
   "version": "3.8.3"
  }
 },
 "nbformat": 4,
 "nbformat_minor": 4
}
