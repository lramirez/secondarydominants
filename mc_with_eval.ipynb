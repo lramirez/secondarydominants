{
 "cells": [
  {
   "cell_type": "code",
   "execution_count": 1,
   "metadata": {},
   "outputs": [],
   "source": [
    "import pandas as pd\n",
    "import numpy as np\n",
    "import markovify\n",
    "import torch\n",
    "import matplotlib.pyplot as plt\n",
    "from ChordLanguageModel import ChordLanguageModel"
   ]
  },
  {
   "cell_type": "code",
   "execution_count": 2,
   "metadata": {},
   "outputs": [],
   "source": [
    "CHAIN_ORDER = 3\n",
    "N_CANDIDATES = 50000\n",
    "N_BARS = 8\n",
    "DATA_PATH = \"chords3.csv\"\n",
    "rnn_config = {\n",
    "    \"HIDDEN_DIM\": 100,\n",
    "    \"EMBED_DIM\": 250,\n",
    "    \"DROPOUT\": 0.1,\n",
    "    \"L2\": 0.0005,\n",
    "    \"LEARNING_RATE\": 0.001,\n",
    "    \"BATCH_SIZE\": 16,\n",
    "    \"N_LAYERS\": 1,\n",
    "    \"N_EPOCHS\" :70\n",
    "}"
   ]
  },
  {
   "cell_type": "code",
   "execution_count": null,
   "metadata": {
    "scrolled": false
   },
   "outputs": [
    {
     "name": "stdout",
     "output_type": "stream",
     "text": [
      "784\n",
      "197\n"
     ]
    },
    {
     "name": "stderr",
     "output_type": "stream",
     "text": [
      "/Users/lauri/opt/anaconda3/lib/python3.8/site-packages/torch/nn/modules/rnn.py:57: UserWarning: dropout option adds dropout after all but last recurrent layer, so non-zero dropout expects num_layers greater than 1, but got dropout=0.1 and num_layers=1\n",
      "  warnings.warn(\"dropout option adds dropout after all but last \"\n"
     ]
    },
    {
     "name": "stdout",
     "output_type": "stream",
     "text": [
      "EPOCH 0: tensor(259.0896, grad_fn=<AddBackward0>)\n",
      "TEST LOSS: tensor(4.2090)\n",
      "EPOCH 1: tensor(193.6254, grad_fn=<AddBackward0>)\n",
      "TEST LOSS: tensor(3.8799)\n",
      "EPOCH 2: tensor(180.4180, grad_fn=<AddBackward0>)\n",
      "TEST LOSS: tensor(3.7089)\n",
      "EPOCH 3: tensor(171.9788, grad_fn=<AddBackward0>)\n",
      "TEST LOSS: tensor(3.5993)\n",
      "EPOCH 4: tensor(165.4918, grad_fn=<AddBackward0>)\n",
      "TEST LOSS: tensor(3.5240)\n",
      "EPOCH 5: tensor(160.6025, grad_fn=<AddBackward0>)\n",
      "TEST LOSS: tensor(3.4606)\n",
      "EPOCH 6: tensor(156.9107, grad_fn=<AddBackward0>)\n",
      "TEST LOSS: tensor(3.4159)\n",
      "EPOCH 7: tensor(153.5896, grad_fn=<AddBackward0>)\n",
      "TEST LOSS: tensor(3.3761)\n",
      "EPOCH 8: tensor(150.4122, grad_fn=<AddBackward0>)\n",
      "TEST LOSS: tensor(3.3477)\n",
      "EPOCH 9: tensor(147.7833, grad_fn=<AddBackward0>)\n",
      "TEST LOSS: tensor(3.3245)\n",
      "EPOCH 10: tensor(145.4734, grad_fn=<AddBackward0>)\n",
      "TEST LOSS: tensor(3.3095)\n"
     ]
    }
   ],
   "source": [
    "clm = ChordLanguageModel(DATA_PATH)\n",
    "clm.train_model(rnn_config)"
   ]
  },
  {
   "cell_type": "code",
   "execution_count": null,
   "metadata": {},
   "outputs": [],
   "source": [
    "df = pd.read_csv(DATA_PATH)\n",
    "df.chords = df.chords.apply(lambda x: eval(x))\n",
    "mc_data = df.chords.to_numpy().tolist()\n",
    "mc = markovify.Chain(mc_data, state_size=CHAIN_ORDER)"
   ]
  },
  {
   "cell_type": "code",
   "execution_count": null,
   "metadata": {},
   "outputs": [],
   "source": [
    "def validate_time(c):\n",
    "    bars = 0\n",
    "    time = 0\n",
    "    fail = False\n",
    "    for chord in c:\n",
    "        time += 1/int(chord[0])\n",
    "        if time == 1:\n",
    "            bars = bars + 1\n",
    "            time = 0\n",
    "            continue\n",
    "        if time > 1:\n",
    "            fail = True\n",
    "            break\n",
    "    if not fail:\n",
    "        if bars == N_BARS:\n",
    "            return True\n",
    "    else:\n",
    "        return False\n",
    "def validate_walk_length(c):\n",
    "    if len(c) == N_BARS:\n",
    "        return True\n",
    "candidates = []\n",
    "for i in range(N_CANDIDATES):\n",
    "    c = mc.walk()\n",
    "    candidates.append(c)\n",
    "accepted = []\n",
    "for candidate in candidates:\n",
    "    if validate_walk_length(candidate):\n",
    "        accepted.append(candidate)\n",
    "accepted = [[c[1] for c in cp] for cp in accepted]\n",
    "#accepted"
   ]
  },
  {
   "cell_type": "code",
   "execution_count": null,
   "metadata": {},
   "outputs": [],
   "source": [
    "scores = clm.evaluate(accepted)\n",
    "#scores"
   ]
  },
  {
   "cell_type": "code",
   "execution_count": null,
   "metadata": {},
   "outputs": [],
   "source": [
    "scored = []\n",
    "for i in range(len(accepted)):\n",
    "    scored.append((accepted[i], scores[i]))\n",
    "scored.sort(key=lambda x: x[1], reverse=True)\n",
    "best = scored[:20]\n",
    "best"
   ]
  },
  {
   "cell_type": "code",
   "execution_count": null,
   "metadata": {},
   "outputs": [],
   "source": [
    "plt.hist(scores, bins = 50)\n",
    "plt.show"
   ]
  },
  {
   "cell_type": "code",
   "execution_count": null,
   "metadata": {},
   "outputs": [],
   "source": []
  },
  {
   "cell_type": "code",
   "execution_count": null,
   "metadata": {},
   "outputs": [],
   "source": []
  }
 ],
 "metadata": {
  "kernelspec": {
   "display_name": "Python 3",
   "language": "python",
   "name": "python3"
  },
  "language_info": {
   "codemirror_mode": {
    "name": "ipython",
    "version": 3
   },
   "file_extension": ".py",
   "mimetype": "text/x-python",
   "name": "python",
   "nbconvert_exporter": "python",
   "pygments_lexer": "ipython3",
   "version": "3.8.3"
  }
 },
 "nbformat": 4,
 "nbformat_minor": 4
}
